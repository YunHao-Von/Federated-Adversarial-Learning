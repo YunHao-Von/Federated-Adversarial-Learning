{
 "cells": [
  {
   "cell_type": "code",
   "execution_count": 2,
   "metadata": {},
   "outputs": [],
   "source": [
    "import torch\n",
    "import torch.nn as nn\n"
   ]
  },
  {
   "cell_type": "code",
   "execution_count": 3,
   "metadata": {},
   "outputs": [
    {
     "data": {
      "text/plain": [
       "[tensor([[ 0.0119, -0.1868,  0.0763, -0.1308, -0.0463,  0.0796, -0.2051, -0.1638,\n",
       "          -0.3126,  0.0237],\n",
       "         [-0.0395,  0.0303, -0.1330,  0.0370,  0.1246, -0.2403,  0.1316,  0.1017,\n",
       "           0.0576, -0.0534],\n",
       "         [ 0.3136, -0.0047, -0.1855, -0.0581, -0.0355, -0.0879,  0.2310, -0.2846,\n",
       "           0.2583, -0.0170],\n",
       "         [-0.2453, -0.0901, -0.0159,  0.0618,  0.2856,  0.1609,  0.1372, -0.1462,\n",
       "          -0.2530, -0.2331],\n",
       "         [-0.0277,  0.2110, -0.2563,  0.2081, -0.0038, -0.2261,  0.1924,  0.0676,\n",
       "          -0.0402,  0.1631]]),\n",
       " tensor([ 0.1209,  0.1190,  0.2836, -0.0420,  0.1115])]"
      ]
     },
     "execution_count": 3,
     "metadata": {},
     "output_type": "execute_result"
    }
   ],
   "source": [
    "model1 = nn.Linear(10, 5)\n",
    "pam1 = model1.parameters()\n",
    "tensor_pam1 = [param.data for param in model1.parameters()]\n",
    "tensor_pam1"
   ]
  },
  {
   "cell_type": "code",
   "execution_count": 4,
   "metadata": {},
   "outputs": [
    {
     "data": {
      "text/plain": [
       "torch.Size([55])"
      ]
     },
     "execution_count": 4,
     "metadata": {},
     "output_type": "execute_result"
    }
   ],
   "source": [
    "params = [param.data.flatten() for param in model1.parameters()]\n",
    "flatten_tensor = torch.cat(params)\n",
    "flatten_tensor.shape"
   ]
  },
  {
   "cell_type": "code",
   "execution_count": 5,
   "metadata": {},
   "outputs": [
    {
     "data": {
      "text/plain": [
       "[tensor([[-0.3062, -0.3013, -0.0992, -0.0722, -0.0285,  0.1003,  0.0422,  0.1166,\n",
       "          -0.1562,  0.0765],\n",
       "         [-0.2228,  0.2648,  0.2487,  0.0376,  0.2403, -0.2967, -0.0148, -0.2660,\n",
       "          -0.2071,  0.0090],\n",
       "         [ 0.0851,  0.2822,  0.2426, -0.0332, -0.2193,  0.2510,  0.2996, -0.2854,\n",
       "          -0.2845,  0.1329],\n",
       "         [ 0.1962,  0.2307,  0.2005, -0.1708, -0.1350,  0.0151, -0.0410, -0.0270,\n",
       "           0.2319,  0.0942],\n",
       "         [ 0.1967, -0.0381, -0.0976, -0.0904,  0.2985, -0.0363, -0.2055, -0.1301,\n",
       "          -0.1658, -0.0217]]),\n",
       " tensor([0.1718, 0.0760, 0.1575, 0.3010, 0.0899])]"
      ]
     },
     "execution_count": 5,
     "metadata": {},
     "output_type": "execute_result"
    }
   ],
   "source": [
    "new_model = nn.Linear(10, 5)\n",
    "tensor_pam2 = [param.data for param in new_model.parameters()]\n",
    "requires_grad_list = [param.requires_grad for param in new_model.parameters()]\n",
    "tensor_pam2"
   ]
  },
  {
   "cell_type": "code",
   "execution_count": 6,
   "metadata": {},
   "outputs": [
    {
     "data": {
      "text/plain": [
       "[tensor([[ 0.0119, -0.1868,  0.0763, -0.1308, -0.0463,  0.0796, -0.2051, -0.1638,\n",
       "          -0.3126,  0.0237],\n",
       "         [-0.0395,  0.0303, -0.1330,  0.0370,  0.1246, -0.2403,  0.1316,  0.1017,\n",
       "           0.0576, -0.0534],\n",
       "         [ 0.3136, -0.0047, -0.1855, -0.0581, -0.0355, -0.0879,  0.2310, -0.2846,\n",
       "           0.2583, -0.0170],\n",
       "         [-0.2453, -0.0901, -0.0159,  0.0618,  0.2856,  0.1609,  0.1372, -0.1462,\n",
       "          -0.2530, -0.2331],\n",
       "         [-0.0277,  0.2110, -0.2563,  0.2081, -0.0038, -0.2261,  0.1924,  0.0676,\n",
       "          -0.0402,  0.1631]]),\n",
       " tensor([ 0.1209,  0.1190,  0.2836, -0.0420,  0.1115])]"
      ]
     },
     "execution_count": 6,
     "metadata": {},
     "output_type": "execute_result"
    }
   ],
   "source": [
    "param_index = 0\n",
    "for param, requires_grad in zip(new_model.parameters(), requires_grad_list):\n",
    "    param_shape = param.data.shape\n",
    "    param.data = flatten_tensor[param_index:param_index+param.numel()].reshape(param_shape)\n",
    "    param.requires_grad = requires_grad\n",
    "    param_index += param.numel()\n",
    "tensor_pam2 = [param.data for param in new_model.parameters()]\n",
    "tensor_pam2"
   ]
  },
  {
   "cell_type": "code",
   "execution_count": 7,
   "metadata": {},
   "outputs": [
    {
     "data": {
      "text/plain": [
       "[Parameter containing:\n",
       " tensor([[ 0.0119, -0.1868,  0.0763, -0.1308, -0.0463,  0.0796, -0.2051, -0.1638,\n",
       "          -0.3126,  0.0237],\n",
       "         [-0.0395,  0.0303, -0.1330,  0.0370,  0.1246, -0.2403,  0.1316,  0.1017,\n",
       "           0.0576, -0.0534],\n",
       "         [ 0.3136, -0.0047, -0.1855, -0.0581, -0.0355, -0.0879,  0.2310, -0.2846,\n",
       "           0.2583, -0.0170],\n",
       "         [-0.2453, -0.0901, -0.0159,  0.0618,  0.2856,  0.1609,  0.1372, -0.1462,\n",
       "          -0.2530, -0.2331],\n",
       "         [-0.0277,  0.2110, -0.2563,  0.2081, -0.0038, -0.2261,  0.1924,  0.0676,\n",
       "          -0.0402,  0.1631]], requires_grad=True),\n",
       " Parameter containing:\n",
       " tensor([ 0.1209,  0.1190,  0.2836, -0.0420,  0.1115], requires_grad=True)]"
      ]
     },
     "execution_count": 7,
     "metadata": {},
     "output_type": "execute_result"
    }
   ],
   "source": [
    "list(model1.parameters())"
   ]
  },
  {
   "cell_type": "code",
   "execution_count": 8,
   "metadata": {},
   "outputs": [
    {
     "data": {
      "text/plain": [
       "[Parameter containing:\n",
       " tensor([[ 0.0119, -0.1868,  0.0763, -0.1308, -0.0463,  0.0796, -0.2051, -0.1638,\n",
       "          -0.3126,  0.0237],\n",
       "         [-0.0395,  0.0303, -0.1330,  0.0370,  0.1246, -0.2403,  0.1316,  0.1017,\n",
       "           0.0576, -0.0534],\n",
       "         [ 0.3136, -0.0047, -0.1855, -0.0581, -0.0355, -0.0879,  0.2310, -0.2846,\n",
       "           0.2583, -0.0170],\n",
       "         [-0.2453, -0.0901, -0.0159,  0.0618,  0.2856,  0.1609,  0.1372, -0.1462,\n",
       "          -0.2530, -0.2331],\n",
       "         [-0.0277,  0.2110, -0.2563,  0.2081, -0.0038, -0.2261,  0.1924,  0.0676,\n",
       "          -0.0402,  0.1631]], requires_grad=True),\n",
       " Parameter containing:\n",
       " tensor([ 0.1209,  0.1190,  0.2836, -0.0420,  0.1115], requires_grad=True)]"
      ]
     },
     "execution_count": 8,
     "metadata": {},
     "output_type": "execute_result"
    }
   ],
   "source": [
    "list(new_model.parameters())"
   ]
  }
 ],
 "metadata": {
  "kernelspec": {
   "display_name": "base",
   "language": "python",
   "name": "python3"
  },
  "language_info": {
   "codemirror_mode": {
    "name": "ipython",
    "version": 3
   },
   "file_extension": ".py",
   "mimetype": "text/x-python",
   "name": "python",
   "nbconvert_exporter": "python",
   "pygments_lexer": "ipython3",
   "version": "3.10.9"
  },
  "orig_nbformat": 4
 },
 "nbformat": 4,
 "nbformat_minor": 2
}
