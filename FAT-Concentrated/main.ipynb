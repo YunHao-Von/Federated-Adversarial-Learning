{
 "cells": [
  {
   "cell_type": "code",
   "execution_count": 1,
   "metadata": {},
   "outputs": [],
   "source": [
    "from utils import *\n",
    "from tqdm import tqdm\n",
    "import torch.optim as optim\n",
    "from advTraining import *\n",
    "import copy"
   ]
  },
  {
   "cell_type": "code",
   "execution_count": 2,
   "metadata": {},
   "outputs": [],
   "source": [
    "args = {\n",
    "    'partition':\"dirichlet\",\n",
    "    'beta':0.4,\n",
    "    'num_users':10,\n",
    "    'dataset':'cifar10',\n",
    "    'comment':'ModelSave',\n",
    "    'model':'cnn',\n",
    "    'save':'ce',\n",
    "    'epochs':20,\n",
    "    'local_bs':256,\n",
    "    'lr':0.01,\n",
    "    'local_ep':10,\n",
    "}\n",
    "sets = {\"mnist\": dict(step_size=0.01, epsilon=0.3),\n",
    "        \"fmnist\": dict(step_size=0.01, epsilon=0.3),\n",
    "        \"cifar10\": dict(step_size=2.0 / 255, epsilon=8.0 / 255),\n",
    "        \"svhn\": dict(step_size=2.0 / 255, epsilon=8.0 / 255),\n",
    "        \"cifar100\": dict(step_size=2.0 / 255, epsilon=8.0 / 255),\n",
    "        }\n",
    "\n",
    "cfgs = sets[args['dataset']]\n",
    "args['cfgs'] = cfgs"
   ]
  },
  {
   "cell_type": "code",
   "execution_count": 3,
   "metadata": {},
   "outputs": [
    {
     "name": "stderr",
     "output_type": "stream",
     "text": [
      "/home/yunhao/anaconda3/lib/python3.10/site-packages/torchvision/models/_utils.py:208: UserWarning: The parameter 'pretrained' is deprecated since 0.13 and may be removed in the future, please use 'weights' instead.\n",
      "  warnings.warn(\n",
      "/home/yunhao/anaconda3/lib/python3.10/site-packages/torchvision/models/_utils.py:223: UserWarning: Arguments other than a weight enum or `None` for 'weights' are deprecated since 0.13 and may be removed in the future. The current behavior is equivalent to passing `weights=ResNet152_Weights.IMAGENET1K_V1`. You can also use `weights=ResNet152_Weights.DEFAULT` to get the most up-to-date weights.\n",
      "  warnings.warn(msg)\n"
     ]
    }
   ],
   "source": [
    "setup_seed(2021)\n",
    "train_dataset, test_dataset, net_dataidx_map, train_data_cls_counts = process_data(args['num_users'], args['dataset'], args['partition'])  # 获得切分好的数据集\n",
    "test_loader = torch.utils.data.DataLoader(test_dataset, batch_size = 256, shuffle = False, num_workers = 4)  # 制作DataLoader\n",
    "model = get_model(args['dataset'])  # 获取模型\n",
    "description = \"inference acc={:.4f}% loss={:.2f}, best_acc = {:.2f}%\"  # 生成表述语言\n",
    "cls_num_list = get_cls_num_list(train_data_cls_counts,args)  # 将字典转化为列表\n",
    "epochs = args['epochs']  # 设定epochs的总数\n",
    "total = len(test_dataset)  # 计算测试集的长度\n",
    "bst_cln_acc = -1\n",
    "bst_rob_acc = -1\n",
    "accurate = list()\n",
    "robust = list()"
   ]
  },
  {
   "cell_type": "code",
   "execution_count": 4,
   "metadata": {},
   "outputs": [
    {
     "name": "stderr",
     "output_type": "stream",
     "text": [
      "  0%|          | 0/20 [00:00<?, ?it/s]/home/yunhao/anaconda3/lib/python3.10/site-packages/torch/nn/_reduction.py:42: UserWarning: size_average and reduce args will be deprecated, please use reduction='sum' instead.\n",
      "  warnings.warn(warning.format(ret))\n"
     ]
    },
    {
     "name": "stdout",
     "output_type": "stream",
     "text": [
      "================================================================\n",
      "Epoch:0,\t cln_acc:0.25220000743865967, \t rob_acc:0.16279999911785126\n",
      "Epoch:0,\t bst_cln_acc:-1, \t bst_rob_acc:-1\n"
     ]
    },
    {
     "name": "stderr",
     "output_type": "stream",
     "text": [
      "  5%|▌         | 1/20 [1:21:12<25:43:03, 4872.82s/it]"
     ]
    }
   ],
   "source": [
    "for epoch in tqdm(range(epochs)):\n",
    "    local_weights = []  # 客户端参数\n",
    "    for idx in range(args['num_users']):\n",
    "        client_weight = client_train(idx,args,model,cls_num_list,train_dataset,net_dataidx_map)\n",
    "        local_weights.append(copy.deepcopy(client_weight))\n",
    "    global_weight = average_weights(local_weights)\n",
    "    global_model = model\n",
    "    global_model.load_state_dict(global_weight)\n",
    "    print('================================================================')\n",
    "    natural_err_total, robust_err_total = eval_adv_test_whitebox(global_model, test_loader, cfgs, args['dataset'])\n",
    "    cln_acc, rob_acc = (total - natural_err_total) * 1.0 / total, (total - robust_err_total) * 1.0 / total\n",
    "    print(\"Epoch:{},\\t cln_acc:{}, \\t rob_acc:{}\".format(epoch, cln_acc, rob_acc))\n",
    "    print(\"Epoch:{},\\t bst_cln_acc:{}, \\t bst_rob_acc:{}\".format(epoch, bst_cln_acc , bst_rob_acc))\n",
    "    save_checkpoint({\n",
    "            'state_dict': global_model.state_dict(),\n",
    "            'epoch': epoch,\n",
    "        }, cln_acc > bst_cln_acc, \"ModelSave/BestAcc.pth\")\n",
    "\n",
    "    save_checkpoint({\n",
    "        'state_dict': global_model.state_dict(),\n",
    "        'epoch': epoch,\n",
    "    }, rob_acc > bst_rob_acc, \"ModelSave/BestRob.pth\")\n",
    "    bst_cln_acc = max(bst_cln_acc, cln_acc)\n",
    "    bst_rob_acc = max(bst_rob_acc, rob_acc)\n",
    "    accurate.append(bst_cln_acc)\n",
    "    robust.append(bst_rob_acc)"
   ]
  },
  {
   "cell_type": "code",
   "execution_count": null,
   "metadata": {},
   "outputs": [],
   "source": [
    "save_checkpoint({\n",
    "            'state_dict': global_model.state_dict(),\n",
    "            'epoch': epoch,\n",
    "        }, 1 > 0, \"ModelSave/Epoch-{}-last.pth\".format(epoch))"
   ]
  },
  {
   "cell_type": "code",
   "execution_count": null,
   "metadata": {},
   "outputs": [
    {
     "data": {
      "text/plain": [
       "<matplotlib.legend.Legend at 0x7f5db6e8d630>"
      ]
     },
     "execution_count": 6,
     "metadata": {},
     "output_type": "execute_result"
    },
    {
     "data": {
      "image/png": "[encoded data removed]",
      "text/plain": [
       "<Figure size 640x480 with 1 Axes>"
      ]
     },
     "metadata": {},
     "output_type": "display_data"
    }
   ],
   "source": [
    "import matplotlib.pyplot as plt\n",
    "accurate_plot = torch.tensor(accurate).cpu()\n",
    "robust_plot = torch.tensor(robust).cpu()\n",
    "plt.plot(accurate_plot,label = 'accurate')\n",
    "robust_plot = torch.tensor(robust).cpu()\n",
    "plt.plot(robust_plot,label = 'robust')\n",
    "plt.title(args['dataset'])\n",
    "plt.legend()"
   ]
  }
 ],
 "metadata": {
  "kernelspec": {
   "display_name": "base",
   "language": "python",
   "name": "python3"
  },
  "language_info": {
   "codemirror_mode": {
    "name": "ipython",
    "version": 3
   },
   "file_extension": ".py",
   "mimetype": "text/x-python",
   "name": "python",
   "nbconvert_exporter": "python",
   "pygments_lexer": "ipython3",
   "version": "3.10.9"
  },
  "orig_nbformat": 4
 },
 "nbformat": 4,
 "nbformat_minor": 2
}
